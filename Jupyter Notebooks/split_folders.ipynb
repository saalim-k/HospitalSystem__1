{
 "cells": [
  {
   "cell_type": "code",
   "execution_count": 1,
   "metadata": {
    "collapsed": true
   },
   "outputs": [
    {
     "data": {
      "text/plain": "140"
     },
     "execution_count": 1,
     "metadata": {},
     "output_type": "execute_result"
    }
   ],
   "source": [
    "import splitfolders\n",
    "\n",
    "input_folder='C:/Users/moham/Desktop/breast cancer dataset/imagesjpeg'\n",
    "output_folder='C:/Users/moham/Desktop/Data/breastImagesJPEG'\n",
    "splitfolders.ratio(input_folder,output=output_folder,\n",
    "                   seed=42,ratio=(0.7,0.2,0.1), group_prefix=None)\n",
    "\n",
    "\n"
   ]
  },
  {
   "cell_type": "code",
   "execution_count": 1,
   "outputs": [],
   "source": [
    "import splitfolders\n",
    "\n",
    "input_folder='C:/Users/moham/Desktop/images with masks/cropped images'\n",
    "output_folder='E:\\CroppedDataImages'\n",
    "splitfolders.ratio(input_folder,output=output_folder,\n",
    "                   seed=42,ratio=(0.7,0.2,0.1), group_prefix=None)"
   ],
   "metadata": {
    "collapsed": false,
    "pycharm": {
     "name": "#%%\n"
    }
   }
  },
  {
   "cell_type": "code",
   "execution_count": 1,
   "outputs": [],
   "source": [
    "import splitfolders\n",
    "\n",
    "input_folder='E:/Images'\n",
    "output_folder='E:/Dataset'\n",
    "splitfolders.ratio(input_folder,output=output_folder,\n",
    "                   seed=42,ratio=(0.7,0.2,0.1), group_prefix=None)"
   ],
   "metadata": {
    "collapsed": false,
    "pycharm": {
     "name": "#%%\n"
    }
   }
  },
  {
   "cell_type": "code",
   "execution_count": 1,
   "outputs": [],
   "source": [
    "import splitfolders\n",
    "\n",
    "input_folder='C:/Users/moham/Desktop/AfterUnetCombined'\n",
    "output_folder='E:/datasetWithMasks'\n",
    "splitfolders.ratio(input_folder,output=output_folder,\n",
    "                   seed=42,ratio=(0.7,0.2,0.1), group_prefix=None)\n"
   ],
   "metadata": {
    "collapsed": false,
    "pycharm": {
     "name": "#%%\n"
    }
   }
  }
 ],
 "metadata": {
  "kernelspec": {
   "display_name": "Python 3",
   "language": "python",
   "name": "python3"
  },
  "language_info": {
   "codemirror_mode": {
    "name": "ipython",
    "version": 2
   },
   "file_extension": ".py",
   "mimetype": "text/x-python",
   "name": "python",
   "nbconvert_exporter": "python",
   "pygments_lexer": "ipython2",
   "version": "2.7.6"
  }
 },
 "nbformat": 4,
 "nbformat_minor": 0
}